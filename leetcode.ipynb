{
  "nbformat": 4,
  "nbformat_minor": 0,
  "metadata": {
    "colab": {
      "provenance": [],
      "authorship_tag": "ABX9TyNtq7Z/UIpb+qMLYdD7F+m4",
      "include_colab_link": true
    },
    "kernelspec": {
      "name": "python3",
      "display_name": "Python 3"
    },
    "language_info": {
      "name": "python"
    }
  },
  "cells": [
    {
      "cell_type": "markdown",
      "metadata": {
        "id": "view-in-github",
        "colab_type": "text"
      },
      "source": [
        "<a href=\"https://colab.research.google.com/github/rishal50/firstprojectdemo/blob/main/leetcode.ipynb\" target=\"_parent\"><img src=\"https://colab.research.google.com/assets/colab-badge.svg\" alt=\"Open In Colab\"/></a>"
      ]
    },
    {
      "cell_type": "code",
      "execution_count": null,
      "metadata": {
        "colab": {
          "base_uri": "https://localhost:8080/"
        },
        "id": "170CvOmOyqIh",
        "outputId": "8f24b4e3-00e9-4e41-82e5-8c8a6316a27c"
      },
      "outputs": [
        {
          "output_type": "stream",
          "name": "stdout",
          "text": [
            "Indices: [0, 1]\n"
          ]
        }
      ],
      "source": [
        "# LeetCode Two Sum problem\n",
        "\n",
        "def two_sum(nums, target):\n",
        "    for i in range(len(nums)):\n",
        "        for j in range(i + 1, len(nums)):\n",
        "            if nums[i] + nums[j] == target:\n",
        "                return [i, j]\n",
        "\n",
        "nums = [2, 7, 11, 15]\n",
        "target = 9\n",
        "result = two_sum(nums, target)\n",
        "print(\"Indices:\", result)\n"
      ]
    },
    {
      "cell_type": "code",
      "source": [
        "# Palindrome Number\n",
        "def is_palindrome(x):\n",
        "    return str(x) == str(x)[::-1]\n",
        "\n",
        "print(\"Is Palindrome (121):\", is_palindrome(121))\n",
        "print(\"Is Palindrome (123):\", is_palindrome(123))\n"
      ],
      "metadata": {
        "id": "WOB8wn-szeVU",
        "outputId": "f9e9744f-59f1-4a88-a538-eac19a6f25a6",
        "colab": {
          "base_uri": "https://localhost:8080/"
        }
      },
      "execution_count": 1,
      "outputs": [
        {
          "output_type": "stream",
          "name": "stdout",
          "text": [
            "Is Palindrome (121): True\n",
            "Is Palindrome (123): False\n"
          ]
        }
      ]
    },
    {
      "cell_type": "code",
      "source": [
        "# Find the maximum number in a list\n",
        "def find_max(nums):\n",
        "    max_num = nums[0]\n",
        "    for num in nums:\n",
        "        if num > max_num:\n",
        "            max_num = num\n",
        "    return max_num\n",
        "\n",
        "print(\"Max number:\", find_max([5, 10, 2, 8, 7]))\n"
      ],
      "metadata": {
        "id": "mtHYIJkv0Ccb",
        "outputId": "0ed2e17e-0444-4fc4-e5a3-a9061e483782",
        "colab": {
          "base_uri": "https://localhost:8080/"
        }
      },
      "execution_count": 2,
      "outputs": [
        {
          "output_type": "stream",
          "name": "stdout",
          "text": [
            "Max number: 10\n"
          ]
        }
      ]
    }
  ]
}